{
 "cells": [
  {
   "cell_type": "code",
   "execution_count": 2,
   "metadata": {},
   "outputs": [],
   "source": [
    "#!/usr/bin/env python\n",
    "# coding: utf-8"
   ]
  },
  {
   "cell_type": "markdown",
   "metadata": {},
   "source": [
    "In[2]:"
   ]
  },
  {
   "cell_type": "code",
   "execution_count": 3,
   "metadata": {},
   "outputs": [],
   "source": [
    "import pandas as pd\n",
    "import numpy as np\n",
    "from sklearn.model_selection import train_test_split\n",
    "from sklearn.ensemble import RandomForestRegressor\n",
    "from sklearn.metrics import mean_squared_error, mean_absolute_error, r2_score\n",
    "from sklearn.preprocessing import LabelEncoder, MinMaxScaler\n",
    "import joblib"
   ]
  },
  {
   "cell_type": "markdown",
   "metadata": {},
   "source": [
    "In[3]:"
   ]
  },
  {
   "cell_type": "code",
   "execution_count": 4,
   "metadata": {},
   "outputs": [],
   "source": [
    "df = pd.read_csv('data.csv')"
   ]
  },
  {
   "cell_type": "markdown",
   "metadata": {},
   "source": [
    "In[4]:"
   ]
  },
  {
   "cell_type": "code",
   "execution_count": 5,
   "metadata": {},
   "outputs": [
    {
     "data": {
      "text/plain": [
       "(219, 11)"
      ]
     },
     "execution_count": 5,
     "metadata": {},
     "output_type": "execute_result"
    }
   ],
   "source": [
    "df.shape"
   ]
  },
  {
   "cell_type": "markdown",
   "metadata": {},
   "source": [
    "In[5]:"
   ]
  },
  {
   "cell_type": "code",
   "execution_count": 6,
   "metadata": {},
   "outputs": [
    {
     "data": {
      "text/plain": [
       "number of workers                         0\n",
       "budget allocated (in rupees)              0\n",
       "availability of resources                 0\n",
       "weather condition                         0\n",
       "location                                  0\n",
       "estimated completion time                 0\n",
       "delay in inspections                      0\n",
       "delay in material and payment approval    0\n",
       "shortage of laborers                      0\n",
       "inadequate number of equipment            0\n",
       "delay in days (target column)             0\n",
       "dtype: int64"
      ]
     },
     "execution_count": 6,
     "metadata": {},
     "output_type": "execute_result"
    }
   ],
   "source": [
    "df.isnull().sum()"
   ]
  },
  {
   "cell_type": "markdown",
   "metadata": {},
   "source": [
    "In[6]:"
   ]
  },
  {
   "cell_type": "code",
   "execution_count": 7,
   "metadata": {},
   "outputs": [
    {
     "data": {
      "text/html": [
       "<div>\n",
       "<style scoped>\n",
       "    .dataframe tbody tr th:only-of-type {\n",
       "        vertical-align: middle;\n",
       "    }\n",
       "\n",
       "    .dataframe tbody tr th {\n",
       "        vertical-align: top;\n",
       "    }\n",
       "\n",
       "    .dataframe thead th {\n",
       "        text-align: right;\n",
       "    }\n",
       "</style>\n",
       "<table border=\"1\" class=\"dataframe\">\n",
       "  <thead>\n",
       "    <tr style=\"text-align: right;\">\n",
       "      <th></th>\n",
       "      <th>number of workers</th>\n",
       "      <th>budget allocated (in rupees)</th>\n",
       "      <th>availability of resources</th>\n",
       "      <th>weather condition</th>\n",
       "      <th>location</th>\n",
       "      <th>estimated completion time</th>\n",
       "      <th>delay in inspections</th>\n",
       "      <th>delay in material and payment approval</th>\n",
       "      <th>shortage of laborers</th>\n",
       "      <th>inadequate number of equipment</th>\n",
       "      <th>delay in days (target column)</th>\n",
       "    </tr>\n",
       "  </thead>\n",
       "  <tbody>\n",
       "    <tr>\n",
       "      <th>0</th>\n",
       "      <td>50</td>\n",
       "      <td>10000000</td>\n",
       "      <td>80</td>\n",
       "      <td>Good</td>\n",
       "      <td>Urban</td>\n",
       "      <td>240</td>\n",
       "      <td>5</td>\n",
       "      <td>3</td>\n",
       "      <td>10</td>\n",
       "      <td>2</td>\n",
       "      <td>15</td>\n",
       "    </tr>\n",
       "    <tr>\n",
       "      <th>1</th>\n",
       "      <td>45</td>\n",
       "      <td>9500000</td>\n",
       "      <td>75</td>\n",
       "      <td>Fair</td>\n",
       "      <td>Suburban</td>\n",
       "      <td>260</td>\n",
       "      <td>8</td>\n",
       "      <td>4</td>\n",
       "      <td>12</td>\n",
       "      <td>3</td>\n",
       "      <td>18</td>\n",
       "    </tr>\n",
       "    <tr>\n",
       "      <th>2</th>\n",
       "      <td>60</td>\n",
       "      <td>12000000</td>\n",
       "      <td>90</td>\n",
       "      <td>Poor</td>\n",
       "      <td>Rural</td>\n",
       "      <td>280</td>\n",
       "      <td>6</td>\n",
       "      <td>5</td>\n",
       "      <td>8</td>\n",
       "      <td>2</td>\n",
       "      <td>20</td>\n",
       "    </tr>\n",
       "    <tr>\n",
       "      <th>3</th>\n",
       "      <td>55</td>\n",
       "      <td>10500000</td>\n",
       "      <td>85</td>\n",
       "      <td>Fair</td>\n",
       "      <td>Urban</td>\n",
       "      <td>250</td>\n",
       "      <td>7</td>\n",
       "      <td>6</td>\n",
       "      <td>15</td>\n",
       "      <td>4</td>\n",
       "      <td>17</td>\n",
       "    </tr>\n",
       "    <tr>\n",
       "      <th>4</th>\n",
       "      <td>48</td>\n",
       "      <td>11000000</td>\n",
       "      <td>70</td>\n",
       "      <td>Good</td>\n",
       "      <td>Suburban</td>\n",
       "      <td>230</td>\n",
       "      <td>5</td>\n",
       "      <td>4</td>\n",
       "      <td>9</td>\n",
       "      <td>3</td>\n",
       "      <td>14</td>\n",
       "    </tr>\n",
       "  </tbody>\n",
       "</table>\n",
       "</div>"
      ],
      "text/plain": [
       "   number of workers  budget allocated (in rupees)  availability of resources  \\\n",
       "0                 50                      10000000                         80   \n",
       "1                 45                       9500000                         75   \n",
       "2                 60                      12000000                         90   \n",
       "3                 55                      10500000                         85   \n",
       "4                 48                      11000000                         70   \n",
       "\n",
       "  weather condition  location  estimated completion time  \\\n",
       "0              Good     Urban                        240   \n",
       "1              Fair  Suburban                        260   \n",
       "2              Poor     Rural                        280   \n",
       "3              Fair     Urban                        250   \n",
       "4              Good  Suburban                        230   \n",
       "\n",
       "   delay in inspections  delay in material and payment approval  \\\n",
       "0                     5                                       3   \n",
       "1                     8                                       4   \n",
       "2                     6                                       5   \n",
       "3                     7                                       6   \n",
       "4                     5                                       4   \n",
       "\n",
       "   shortage of laborers  inadequate number of equipment  \\\n",
       "0                    10                               2   \n",
       "1                    12                               3   \n",
       "2                     8                               2   \n",
       "3                    15                               4   \n",
       "4                     9                               3   \n",
       "\n",
       "   delay in days (target column)  \n",
       "0                             15  \n",
       "1                             18  \n",
       "2                             20  \n",
       "3                             17  \n",
       "4                             14  "
      ]
     },
     "execution_count": 7,
     "metadata": {},
     "output_type": "execute_result"
    }
   ],
   "source": [
    "df.head()"
   ]
  },
  {
   "cell_type": "markdown",
   "metadata": {},
   "source": [
    "In[7]:"
   ]
  },
  {
   "cell_type": "code",
   "execution_count": 8,
   "metadata": {},
   "outputs": [
    {
     "data": {
      "text/html": [
       "<div>\n",
       "<style scoped>\n",
       "    .dataframe tbody tr th:only-of-type {\n",
       "        vertical-align: middle;\n",
       "    }\n",
       "\n",
       "    .dataframe tbody tr th {\n",
       "        vertical-align: top;\n",
       "    }\n",
       "\n",
       "    .dataframe thead th {\n",
       "        text-align: right;\n",
       "    }\n",
       "</style>\n",
       "<table border=\"1\" class=\"dataframe\">\n",
       "  <thead>\n",
       "    <tr style=\"text-align: right;\">\n",
       "      <th></th>\n",
       "      <th>number of workers</th>\n",
       "      <th>budget allocated (in rupees)</th>\n",
       "      <th>availability of resources</th>\n",
       "      <th>estimated completion time</th>\n",
       "      <th>delay in inspections</th>\n",
       "      <th>delay in material and payment approval</th>\n",
       "      <th>shortage of laborers</th>\n",
       "      <th>inadequate number of equipment</th>\n",
       "      <th>delay in days (target column)</th>\n",
       "    </tr>\n",
       "  </thead>\n",
       "  <tbody>\n",
       "    <tr>\n",
       "      <th>count</th>\n",
       "      <td>219.000000</td>\n",
       "      <td>2.190000e+02</td>\n",
       "      <td>219.000000</td>\n",
       "      <td>219.000000</td>\n",
       "      <td>219.000000</td>\n",
       "      <td>219.000000</td>\n",
       "      <td>219.000000</td>\n",
       "      <td>219.000000</td>\n",
       "      <td>219.000000</td>\n",
       "    </tr>\n",
       "    <tr>\n",
       "      <th>mean</th>\n",
       "      <td>54.543379</td>\n",
       "      <td>1.062260e+07</td>\n",
       "      <td>80.543379</td>\n",
       "      <td>255.342466</td>\n",
       "      <td>6.785388</td>\n",
       "      <td>4.228311</td>\n",
       "      <td>10.945205</td>\n",
       "      <td>2.922374</td>\n",
       "      <td>17.328767</td>\n",
       "    </tr>\n",
       "    <tr>\n",
       "      <th>std</th>\n",
       "      <td>5.630983</td>\n",
       "      <td>9.775006e+05</td>\n",
       "      <td>6.638205</td>\n",
       "      <td>15.854747</td>\n",
       "      <td>1.389530</td>\n",
       "      <td>1.059220</td>\n",
       "      <td>2.229229</td>\n",
       "      <td>0.800460</td>\n",
       "      <td>2.523585</td>\n",
       "    </tr>\n",
       "    <tr>\n",
       "      <th>min</th>\n",
       "      <td>45.000000</td>\n",
       "      <td>9.200000e+06</td>\n",
       "      <td>70.000000</td>\n",
       "      <td>225.000000</td>\n",
       "      <td>4.000000</td>\n",
       "      <td>3.000000</td>\n",
       "      <td>7.000000</td>\n",
       "      <td>2.000000</td>\n",
       "      <td>13.000000</td>\n",
       "    </tr>\n",
       "    <tr>\n",
       "      <th>25%</th>\n",
       "      <td>50.000000</td>\n",
       "      <td>9.800000e+06</td>\n",
       "      <td>75.000000</td>\n",
       "      <td>245.000000</td>\n",
       "      <td>6.000000</td>\n",
       "      <td>3.000000</td>\n",
       "      <td>9.000000</td>\n",
       "      <td>2.000000</td>\n",
       "      <td>15.000000</td>\n",
       "    </tr>\n",
       "    <tr>\n",
       "      <th>50%</th>\n",
       "      <td>54.000000</td>\n",
       "      <td>1.045000e+07</td>\n",
       "      <td>80.000000</td>\n",
       "      <td>255.000000</td>\n",
       "      <td>7.000000</td>\n",
       "      <td>4.000000</td>\n",
       "      <td>11.000000</td>\n",
       "      <td>3.000000</td>\n",
       "      <td>17.000000</td>\n",
       "    </tr>\n",
       "    <tr>\n",
       "      <th>75%</th>\n",
       "      <td>59.000000</td>\n",
       "      <td>1.150000e+07</td>\n",
       "      <td>86.000000</td>\n",
       "      <td>265.000000</td>\n",
       "      <td>8.000000</td>\n",
       "      <td>5.000000</td>\n",
       "      <td>13.000000</td>\n",
       "      <td>4.000000</td>\n",
       "      <td>19.000000</td>\n",
       "    </tr>\n",
       "    <tr>\n",
       "      <th>max</th>\n",
       "      <td>65.000000</td>\n",
       "      <td>1.255000e+07</td>\n",
       "      <td>93.000000</td>\n",
       "      <td>290.000000</td>\n",
       "      <td>9.000000</td>\n",
       "      <td>6.000000</td>\n",
       "      <td>16.000000</td>\n",
       "      <td>4.000000</td>\n",
       "      <td>22.000000</td>\n",
       "    </tr>\n",
       "  </tbody>\n",
       "</table>\n",
       "</div>"
      ],
      "text/plain": [
       "       number of workers  budget allocated (in rupees)  \\\n",
       "count         219.000000                  2.190000e+02   \n",
       "mean           54.543379                  1.062260e+07   \n",
       "std             5.630983                  9.775006e+05   \n",
       "min            45.000000                  9.200000e+06   \n",
       "25%            50.000000                  9.800000e+06   \n",
       "50%            54.000000                  1.045000e+07   \n",
       "75%            59.000000                  1.150000e+07   \n",
       "max            65.000000                  1.255000e+07   \n",
       "\n",
       "       availability of resources  estimated completion time  \\\n",
       "count                 219.000000                 219.000000   \n",
       "mean                   80.543379                 255.342466   \n",
       "std                     6.638205                  15.854747   \n",
       "min                    70.000000                 225.000000   \n",
       "25%                    75.000000                 245.000000   \n",
       "50%                    80.000000                 255.000000   \n",
       "75%                    86.000000                 265.000000   \n",
       "max                    93.000000                 290.000000   \n",
       "\n",
       "       delay in inspections  delay in material and payment approval  \\\n",
       "count            219.000000                              219.000000   \n",
       "mean               6.785388                                4.228311   \n",
       "std                1.389530                                1.059220   \n",
       "min                4.000000                                3.000000   \n",
       "25%                6.000000                                3.000000   \n",
       "50%                7.000000                                4.000000   \n",
       "75%                8.000000                                5.000000   \n",
       "max                9.000000                                6.000000   \n",
       "\n",
       "       shortage of laborers  inadequate number of equipment  \\\n",
       "count            219.000000                      219.000000   \n",
       "mean              10.945205                        2.922374   \n",
       "std                2.229229                        0.800460   \n",
       "min                7.000000                        2.000000   \n",
       "25%                9.000000                        2.000000   \n",
       "50%               11.000000                        3.000000   \n",
       "75%               13.000000                        4.000000   \n",
       "max               16.000000                        4.000000   \n",
       "\n",
       "       delay in days (target column)  \n",
       "count                     219.000000  \n",
       "mean                       17.328767  \n",
       "std                         2.523585  \n",
       "min                        13.000000  \n",
       "25%                        15.000000  \n",
       "50%                        17.000000  \n",
       "75%                        19.000000  \n",
       "max                        22.000000  "
      ]
     },
     "execution_count": 8,
     "metadata": {},
     "output_type": "execute_result"
    }
   ],
   "source": [
    "df.describe()"
   ]
  },
  {
   "cell_type": "markdown",
   "metadata": {},
   "source": [
    "In[8]:"
   ]
  },
  {
   "cell_type": "markdown",
   "metadata": {},
   "source": [
    "Encode categorical variables using LabelEncoder"
   ]
  },
  {
   "cell_type": "code",
   "execution_count": 9,
   "metadata": {},
   "outputs": [],
   "source": [
    "label_encoders = {}\n",
    "categorical_columns = ['weather condition', 'location']"
   ]
  },
  {
   "cell_type": "code",
   "execution_count": 10,
   "metadata": {},
   "outputs": [
    {
     "data": {
      "text/plain": [
       "['label_encoders.pkl']"
      ]
     },
     "execution_count": 10,
     "metadata": {},
     "output_type": "execute_result"
    }
   ],
   "source": [
    "for col in categorical_columns:\n",
    "    le = LabelEncoder()\n",
    "    df[col] = le.fit_transform(df[col])\n",
    "    label_encoders[col] = le\n",
    "    \n",
    "joblib.dump(label_encoders, 'label_encoders.pkl')    "
   ]
  },
  {
   "cell_type": "markdown",
   "metadata": {},
   "source": [
    "In[27]:"
   ]
  },
  {
   "cell_type": "markdown",
   "metadata": {},
   "source": [
    "Normalize numerical features"
   ]
  },
  {
   "cell_type": "code",
   "execution_count": 11,
   "metadata": {},
   "outputs": [],
   "source": [
    "scaler = MinMaxScaler()\n",
    "numerical_columns = ['number of workers', 'budget allocated (in rupees)','availability of resources', 'estimated completion time', 'delay in inspections', 'delay in material and payment approval', 'shortage of laborers', 'inadequate number of equipment']\n",
    "df[numerical_columns] = scaler.fit_transform(df[numerical_columns])"
   ]
  },
  {
   "cell_type": "code",
   "execution_count": 12,
   "metadata": {},
   "outputs": [
    {
     "data": {
      "text/html": [
       "<div>\n",
       "<style scoped>\n",
       "    .dataframe tbody tr th:only-of-type {\n",
       "        vertical-align: middle;\n",
       "    }\n",
       "\n",
       "    .dataframe tbody tr th {\n",
       "        vertical-align: top;\n",
       "    }\n",
       "\n",
       "    .dataframe thead th {\n",
       "        text-align: right;\n",
       "    }\n",
       "</style>\n",
       "<table border=\"1\" class=\"dataframe\">\n",
       "  <thead>\n",
       "    <tr style=\"text-align: right;\">\n",
       "      <th></th>\n",
       "      <th>number of workers</th>\n",
       "      <th>budget allocated (in rupees)</th>\n",
       "      <th>availability of resources</th>\n",
       "      <th>weather condition</th>\n",
       "      <th>location</th>\n",
       "      <th>estimated completion time</th>\n",
       "      <th>delay in inspections</th>\n",
       "      <th>delay in material and payment approval</th>\n",
       "      <th>shortage of laborers</th>\n",
       "      <th>inadequate number of equipment</th>\n",
       "      <th>delay in days (target column)</th>\n",
       "    </tr>\n",
       "  </thead>\n",
       "  <tbody>\n",
       "    <tr>\n",
       "      <th>0</th>\n",
       "      <td>0.25</td>\n",
       "      <td>0.238806</td>\n",
       "      <td>0.434783</td>\n",
       "      <td>1</td>\n",
       "      <td>2</td>\n",
       "      <td>0.230769</td>\n",
       "      <td>0.2</td>\n",
       "      <td>0.000000</td>\n",
       "      <td>0.333333</td>\n",
       "      <td>0.0</td>\n",
       "      <td>15</td>\n",
       "    </tr>\n",
       "    <tr>\n",
       "      <th>1</th>\n",
       "      <td>0.00</td>\n",
       "      <td>0.089552</td>\n",
       "      <td>0.217391</td>\n",
       "      <td>0</td>\n",
       "      <td>1</td>\n",
       "      <td>0.538462</td>\n",
       "      <td>0.8</td>\n",
       "      <td>0.333333</td>\n",
       "      <td>0.555556</td>\n",
       "      <td>0.5</td>\n",
       "      <td>18</td>\n",
       "    </tr>\n",
       "    <tr>\n",
       "      <th>2</th>\n",
       "      <td>0.75</td>\n",
       "      <td>0.835821</td>\n",
       "      <td>0.869565</td>\n",
       "      <td>2</td>\n",
       "      <td>0</td>\n",
       "      <td>0.846154</td>\n",
       "      <td>0.4</td>\n",
       "      <td>0.666667</td>\n",
       "      <td>0.111111</td>\n",
       "      <td>0.0</td>\n",
       "      <td>20</td>\n",
       "    </tr>\n",
       "    <tr>\n",
       "      <th>3</th>\n",
       "      <td>0.50</td>\n",
       "      <td>0.388060</td>\n",
       "      <td>0.652174</td>\n",
       "      <td>0</td>\n",
       "      <td>2</td>\n",
       "      <td>0.384615</td>\n",
       "      <td>0.6</td>\n",
       "      <td>1.000000</td>\n",
       "      <td>0.888889</td>\n",
       "      <td>1.0</td>\n",
       "      <td>17</td>\n",
       "    </tr>\n",
       "    <tr>\n",
       "      <th>4</th>\n",
       "      <td>0.15</td>\n",
       "      <td>0.537313</td>\n",
       "      <td>0.000000</td>\n",
       "      <td>1</td>\n",
       "      <td>1</td>\n",
       "      <td>0.076923</td>\n",
       "      <td>0.2</td>\n",
       "      <td>0.333333</td>\n",
       "      <td>0.222222</td>\n",
       "      <td>0.5</td>\n",
       "      <td>14</td>\n",
       "    </tr>\n",
       "  </tbody>\n",
       "</table>\n",
       "</div>"
      ],
      "text/plain": [
       "   number of workers  budget allocated (in rupees)  availability of resources  \\\n",
       "0               0.25                      0.238806                   0.434783   \n",
       "1               0.00                      0.089552                   0.217391   \n",
       "2               0.75                      0.835821                   0.869565   \n",
       "3               0.50                      0.388060                   0.652174   \n",
       "4               0.15                      0.537313                   0.000000   \n",
       "\n",
       "   weather condition  location  estimated completion time  \\\n",
       "0                  1         2                   0.230769   \n",
       "1                  0         1                   0.538462   \n",
       "2                  2         0                   0.846154   \n",
       "3                  0         2                   0.384615   \n",
       "4                  1         1                   0.076923   \n",
       "\n",
       "   delay in inspections  delay in material and payment approval  \\\n",
       "0                   0.2                                0.000000   \n",
       "1                   0.8                                0.333333   \n",
       "2                   0.4                                0.666667   \n",
       "3                   0.6                                1.000000   \n",
       "4                   0.2                                0.333333   \n",
       "\n",
       "   shortage of laborers  inadequate number of equipment  \\\n",
       "0              0.333333                             0.0   \n",
       "1              0.555556                             0.5   \n",
       "2              0.111111                             0.0   \n",
       "3              0.888889                             1.0   \n",
       "4              0.222222                             0.5   \n",
       "\n",
       "   delay in days (target column)  \n",
       "0                             15  \n",
       "1                             18  \n",
       "2                             20  \n",
       "3                             17  \n",
       "4                             14  "
      ]
     },
     "execution_count": 12,
     "metadata": {},
     "output_type": "execute_result"
    }
   ],
   "source": [
    "df.head()"
   ]
  },
  {
   "cell_type": "code",
   "execution_count": 13,
   "metadata": {},
   "outputs": [
    {
     "data": {
      "text/plain": [
       "['scaler.pkl']"
      ]
     },
     "execution_count": 13,
     "metadata": {},
     "output_type": "execute_result"
    }
   ],
   "source": [
    "joblib.dump(scaler, 'scaler.pkl')"
   ]
  },
  {
   "cell_type": "markdown",
   "metadata": {},
   "source": [
    "In[28]:"
   ]
  },
  {
   "cell_type": "markdown",
   "metadata": {},
   "source": [
    "Split the data into features (X) and target (y)"
   ]
  },
  {
   "cell_type": "code",
   "execution_count": 14,
   "metadata": {},
   "outputs": [
    {
     "name": "stdout",
     "output_type": "stream",
     "text": [
      "Features :  (219, 10)\n",
      "Target: (219,)\n"
     ]
    }
   ],
   "source": [
    "X = df.drop('delay in days (target column)', axis=1)\n",
    "y = df['delay in days (target column)']\n",
    "print('Features : ', X.shape)\n",
    "print('Target:', y.shape)"
   ]
  },
  {
   "cell_type": "markdown",
   "metadata": {},
   "source": [
    "In[29]:"
   ]
  },
  {
   "cell_type": "markdown",
   "metadata": {},
   "source": [
    "Train-test split"
   ]
  },
  {
   "cell_type": "code",
   "execution_count": 15,
   "metadata": {},
   "outputs": [],
   "source": [
    "X_train, X_test, y_train, y_test = train_test_split(X, y, test_size=0.2, random_state=42) "
   ]
  },
  {
   "cell_type": "code",
   "execution_count": 16,
   "metadata": {},
   "outputs": [
    {
     "name": "stdout",
     "output_type": "stream",
     "text": [
      "Training data :  (175, 10)\n",
      "Testing data : (44, 10)\n"
     ]
    }
   ],
   "source": [
    "print('Training data : ',X_train.shape)\n",
    "print('Testing data :',X_test.shape)"
   ]
  },
  {
   "cell_type": "markdown",
   "metadata": {},
   "source": [
    "In[30]:"
   ]
  },
  {
   "cell_type": "markdown",
   "metadata": {},
   "source": [
    "Training the Random Forest Regressor model"
   ]
  },
  {
   "cell_type": "code",
   "execution_count": 17,
   "metadata": {},
   "outputs": [
    {
     "data": {
      "text/plain": [
       "RandomForestRegressor(n_estimators=300, random_state=12)"
      ]
     },
     "execution_count": 17,
     "metadata": {},
     "output_type": "execute_result"
    }
   ],
   "source": [
    "rf_regressor = RandomForestRegressor(n_estimators=300, random_state=12)\n",
    "rf_regressor.fit(X_train, y_train)"
   ]
  },
  {
   "cell_type": "code",
   "execution_count": 18,
   "metadata": {},
   "outputs": [
    {
     "data": {
      "text/plain": [
       "['delay_model.pkl']"
      ]
     },
     "execution_count": 18,
     "metadata": {},
     "output_type": "execute_result"
    }
   ],
   "source": [
    "joblib.dump(rf_regressor, 'delay_model.pkl')"
   ]
  },
  {
   "cell_type": "markdown",
   "metadata": {},
   "source": [
    "In[31]:"
   ]
  },
  {
   "cell_type": "markdown",
   "metadata": {},
   "source": [
    "Make predictions on the test set"
   ]
  },
  {
   "cell_type": "code",
   "execution_count": 19,
   "metadata": {},
   "outputs": [],
   "source": [
    "y_pred = np.round(rf_regressor.predict(X_test)).astype(int)"
   ]
  },
  {
   "cell_type": "markdown",
   "metadata": {},
   "source": [
    "In[32]:"
   ]
  },
  {
   "cell_type": "code",
   "execution_count": 20,
   "metadata": {},
   "outputs": [
    {
     "name": "stdout",
     "output_type": "stream",
     "text": [
      "     Actual  Predicted\n",
      "154      13         16\n",
      "93       14         14\n",
      "216      17         18\n",
      "217      15         17\n",
      "15       16         16\n",
      "104      19         19\n",
      "171      18         19\n",
      "208      15         15\n",
      "75       20         20\n",
      "141      14         17\n",
      "97       16         18\n",
      "30       22         22\n",
      "189      22         21\n",
      "9        18         18\n",
      "67       14         17\n",
      "178      16         15\n",
      "182      15         15\n",
      "18       14         15\n",
      "156      22         17\n",
      "66       20         19\n",
      "212      21         19\n",
      "95       18         17\n",
      "120      16         16\n",
      "25       16         16\n",
      "214      19         17\n",
      "148      17         17\n",
      "165      17         18\n",
      "16       18         18\n",
      "45       15         16\n",
      "153      15         18\n",
      "139      20         18\n",
      "55       20         19\n",
      "126      20         16\n",
      "195      20         19\n",
      "73       17         17\n",
      "108      17         17\n",
      "82       20         19\n",
      "137      17         18\n",
      "140      19         19\n",
      "100      17         18\n",
      "86       17         16\n",
      "186      19         19\n",
      "119      17         19\n",
      "144      16         16\n"
     ]
    }
   ],
   "source": [
    "print(pd.DataFrame({'Actual':y_test , 'Predicted' : y_pred}))"
   ]
  },
  {
   "cell_type": "markdown",
   "metadata": {},
   "source": [
    "In[33]:"
   ]
  },
  {
   "cell_type": "markdown",
   "metadata": {},
   "source": [
    "Evaluate the model"
   ]
  },
  {
   "cell_type": "code",
   "execution_count": 21,
   "metadata": {},
   "outputs": [],
   "source": [
    "mse = mean_squared_error(y_test, y_pred)\n",
    "mae = mean_absolute_error(y_test, y_pred)\n",
    "r2 = r2_score(y_test, y_pred)"
   ]
  },
  {
   "cell_type": "code",
   "execution_count": 22,
   "metadata": {},
   "outputs": [
    {
     "name": "stdout",
     "output_type": "stream",
     "text": [
      "Mean Squared Error (MSE): 2.64\n",
      "Mean Absolute Error (MAE): 1.09\n",
      "R-squared (RÂ²) Score: 0.52\n"
     ]
    }
   ],
   "source": [
    "print(f\"Mean Squared Error (MSE): {mse:.2f}\")\n",
    "print(f\"Mean Absolute Error (MAE): {mae:.2f}\")\n",
    "print(f\"R-squared (RÂ²) Score: {r2:.2f}\")"
   ]
  },
  {
   "cell_type": "markdown",
   "metadata": {},
   "source": [
    "In[34]:"
   ]
  },
  {
   "cell_type": "code",
   "execution_count": 23,
   "metadata": {},
   "outputs": [
    {
     "data": {
      "text/plain": [
       "['number of workers',\n",
       " 'budget allocated (in rupees)',\n",
       " 'availability of resources',\n",
       " 'weather condition',\n",
       " 'location',\n",
       " 'estimated completion time',\n",
       " 'delay in inspections',\n",
       " 'delay in material and payment approval',\n",
       " 'shortage of laborers',\n",
       " 'inadequate number of equipment',\n",
       " 'delay in days (target column)']"
      ]
     },
     "execution_count": 23,
     "metadata": {},
     "output_type": "execute_result"
    }
   ],
   "source": [
    "df.columns.tolist()"
   ]
  },
  {
   "cell_type": "markdown",
   "metadata": {},
   "source": [
    "In[36]:"
   ]
  },
  {
   "cell_type": "markdown",
   "metadata": {},
   "source": [
    "abel_encoder = joblib.load('label_encoders.pkl')<br>\n",
    "caler = joblib.load('scaler.pkl')<br>\n",
    "odel = joblib.load('delay_model.pkl')"
   ]
  },
  {
   "cell_type": "code",
   "execution_count": null,
   "metadata": {},
   "outputs": [],
   "source": [
    "user_input = {\n",
    "    'number_of_workers': float(input(\"Enter number of workers: \")),\n",
    "    'budget_allocated': float(input(\"Enter budget allocated (in rupees): \")),\n",
    "    'availability_of_resources': float(input(\"Enter availability of resources: \")),\n",
    "    'weather_condition': input(\"Enter weather condition (Good/Fair/Poor): \").capitalize(),\n",
    "    'location': input(\"Enter location (Urban/Suburban/Rural): \").capitalize(),\n",
    "    'estimated_completion_time': float(input(\"Enter estimated completion time: \")),\n",
    "    'delay_in_inspections': float(input(\"Enter delay in inspections: \")),\n",
    "    'delay_in_material_approval': float(input(\"Enter delay in material and payment approval: \")),\n",
    "    'shortage_of_laborers': float(input(\"Enter shortage of laborers: \")),\n",
    "    'inadequate_number_of_equipment': float(input(\"Enter inadequate number of equipment: \"))\n",
    "}"
   ]
  },
  {
   "cell_type": "code",
   "execution_count": null,
   "metadata": {},
   "outputs": [],
   "source": [
    "user_input['weather_condition'] = label_encoders['weather condition'].transform([user_input['weather_condition']])[0]\n",
    "user_input['location'] = label_encoders['location'].transform([user_input['location']])[0]"
   ]
  },
  {
   "cell_type": "markdown",
   "metadata": {},
   "source": [
    "Preprocess user input with min-max scaling"
   ]
  },
  {
   "cell_type": "code",
   "execution_count": null,
   "metadata": {},
   "outputs": [],
   "source": [
    "numerical_columns = ['number of workers', 'budget allocated (in rupees)','availability_of_resources', 'estimated completion time', 'delay_in_inspections', 'delay_in_material_approval', 'shortage_of_laborers', 'inadequate_number_of_equipment']\n",
    "user_input_scaled = scaler.transform(numerical_columns)"
   ]
  },
  {
   "cell_type": "code",
   "execution_count": null,
   "metadata": {},
   "outputs": [],
   "source": [
    "user_input_scaled.append('weather_condition')\n",
    "user_input_scaled.append('location')\n",
    "# Make prediction\n",
    "predicted_delay = model.predict(user_input_scaled)[0]"
   ]
  },
  {
   "cell_type": "code",
   "execution_count": null,
   "metadata": {},
   "outputs": [],
   "source": [
    "print(f\"Predicted Delay in Days: {predicted_delay}\")\n",
    "#Make sure to replace 'label_encoder_weather.pkl', 'label_encoder_location.pkl', 'min_max_scaler.pkl', and 'trained_model.pkl' with the actual file paths of your saved label encoders, scaler, and trained model."
   ]
  },
  {
   "cell_type": "markdown",
   "metadata": {},
   "source": [
    "In[44]:"
   ]
  },
  {
   "cell_type": "code",
   "execution_count": null,
   "metadata": {},
   "outputs": [],
   "source": [
    "import numpy as np\n",
    "from sklearn.preprocessing import LabelEncoder, MinMaxScaler\n",
    "import joblib  # for loading the trained model"
   ]
  },
  {
   "cell_type": "markdown",
   "metadata": {},
   "source": [
    "Load the label encoders and scaler used during training"
   ]
  },
  {
   "cell_type": "code",
   "execution_count": null,
   "metadata": {},
   "outputs": [],
   "source": [
    "label_encoders = joblib.load('label_encoders.pkl')\n",
    "scaler = joblib.load('scaler.pkl')  # Load the scaler\n",
    "model = joblib.load('delay_model.pkl')"
   ]
  },
  {
   "cell_type": "markdown",
   "metadata": {},
   "source": [
    "Collect user input"
   ]
  },
  {
   "cell_type": "code",
   "execution_count": null,
   "metadata": {},
   "outputs": [],
   "source": [
    "user_input = {\n",
    "    'number_of_workers': int(input(\"Enter number of workers: \")),\n",
    "    'budget_allocated': int(input(\"Enter budget allocated (in rupees): \")),\n",
    "    'availability_of_resources': int(input(\"Enter availability of resources: \")),\n",
    "    'weather_condition': input(\"Enter weather condition (Good/Fair/Poor): \").capitalize(),\n",
    "    'location': input(\"Enter location (Urban/Suburban/Rural): \").capitalize(),\n",
    "    'estimated_completion_time': int(input(\"Enter estimated completion time: \")),\n",
    "    'delay_in_inspections': int(input(\"Enter delay in inspections: \")),\n",
    "    'delay_in_material_approval': int(input(\"Enter delay in material and payment approval: \")),\n",
    "    'shortage_of_laborers': int(input(\"Enter shortage of laborers: \")),\n",
    "    'inadequate_number_of_equipment': int(input(\"Enter inadequate number of equipment: \"))\n",
    "}"
   ]
  },
  {
   "cell_type": "markdown",
   "metadata": {},
   "source": [
    "Encode weather and location using the corresponding label encoders"
   ]
  },
  {
   "cell_type": "code",
   "execution_count": null,
   "metadata": {},
   "outputs": [],
   "source": [
    "user_input['weather_condition'] = label_encoders['weather condition'].transform([user_input['weather_condition']])[0]\n",
    "user_input['location'] = label_encoders['location'].transform([user_input['location']])[0]"
   ]
  },
  {
   "cell_type": "markdown",
   "metadata": {},
   "source": [
    "Scale numerical features using the loaded scaler"
   ]
  },
  {
   "cell_type": "code",
   "execution_count": null,
   "metadata": {},
   "outputs": [],
   "source": [
    "numerical_features = ['number_of_workers', 'budget_allocated', 'availability_of_resources', 'estimated_completion_time',\n",
    "                      'delay_in_inspections', 'delay_in_material_approval', 'shortage_of_laborers',\n",
    "                      'inadequate_number_of_equipment']"
   ]
  },
  {
   "cell_type": "code",
   "execution_count": null,
   "metadata": {},
   "outputs": [],
   "source": [
    "user_input_values = [user_input[feature] for feature in numerical_features]"
   ]
  },
  {
   "cell_type": "code",
   "execution_count": null,
   "metadata": {},
   "outputs": [],
   "source": [
    "user_input_scaled = scaler.transform(np.array(user_input_values).reshape(1, -1))"
   ]
  },
  {
   "cell_type": "code",
   "execution_count": null,
   "metadata": {},
   "outputs": [],
   "source": [
    "user_input_scaled = np.array(user_input_values + [user_input['weather_condition'], user_input['location']]).reshape(1, -1)\n",
    "# Make prediction\n",
    "predicted_delay = model.predict(user_input_scaled)[0]"
   ]
  },
  {
   "cell_type": "code",
   "execution_count": null,
   "metadata": {},
   "outputs": [],
   "source": [
    "print(f\"Predicted Delay in Days: {predicted_delay}\")"
   ]
  }
 ],
 "metadata": {
  "kernelspec": {
   "display_name": "Python 3 (ipykernel)",
   "language": "python",
   "name": "python3"
  },
  "language_info": {
   "codemirror_mode": {
    "name": "ipython",
    "version": 3
   },
   "file_extension": ".py",
   "mimetype": "text/x-python",
   "name": "python",
   "nbconvert_exporter": "python",
   "pygments_lexer": "ipython3",
   "version": "3.9.13"
  }
 },
 "nbformat": 4,
 "nbformat_minor": 2
}
